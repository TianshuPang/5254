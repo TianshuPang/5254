{
 "cells": [
  {
   "cell_type": "code",
   "execution_count": 3,
   "metadata": {},
   "outputs": [
    {
     "name": "stdout",
     "output_type": "stream",
     "text": [
      "Collecting cvxpy\n",
      "  Downloading cvxpy-0.4.11.tar.gz (159kB)\n",
      "\u001b[K    100% |████████████████████████████████| 163kB 2.1MB/s ta 0:00:01\n",
      "\u001b[?25hCollecting numpy\n",
      "  Downloading https://files.pythonhosted.org/packages/ea/31/991207e6234b46a1228be970735ead9d6f06a298917d6f718c5e32e835bb/numpy-1.14.2-cp35-cp35m-manylinux1_x86_64.whl (12.1MB)\n",
      "\u001b[K    100% |████████████████████████████████| 12.1MB 187kB/s eta 0:00:01\n",
      "\u001b[?25hCollecting ecos>=2 (from cvxpy)\n",
      "  Using cached ecos-2.0.5.tar.gz\n",
      "Collecting scs>=1.1.3 (from cvxpy)\n",
      "  Using cached scs-2.0.2.tar.gz\n",
      "Collecting multiprocess (from cvxpy)\n",
      "  Using cached multiprocess-0.70.5.zip\n",
      "Collecting fastcache (from cvxpy)\n",
      "  Using cached fastcache-1.0.2.tar.gz\n",
      "Collecting six (from cvxpy)\n",
      "  Using cached six-1.11.0-py2.py3-none-any.whl\n",
      "Collecting toolz (from cvxpy)\n",
      "  Using cached toolz-0.9.0.tar.gz\n",
      "Collecting scipy>=0.15 (from cvxpy)\n",
      "  Using cached scipy-1.0.0-cp35-cp35m-manylinux1_x86_64.whl\n",
      "Collecting CVXcanon>=0.0.22 (from cvxpy)\n",
      "  Using cached CVXcanon-0.1.1.tar.gz\n",
      "Collecting dill>=0.2.6 (from multiprocess->cvxpy)\n",
      "  Using cached dill-0.2.7.1.tar.gz\n",
      "Building wheels for collected packages: cvxpy, ecos, scs, multiprocess, fastcache, toolz, CVXcanon, dill\n",
      "  Running setup.py bdist_wheel for cvxpy ... \u001b[?25ldone\n",
      "\u001b[?25h  Stored in directory: /home/carlmueller/.cache/pip/wheels/25/7d/12/57dfa9160d887b962454011079e491d815dbfc99e5555fbcef\n",
      "  Running setup.py bdist_wheel for ecos ... \u001b[?25ldone\n",
      "\u001b[?25h  Stored in directory: /home/carlmueller/.cache/pip/wheels/f6/bb/52/1eab61b3c4cd0ef3fac76c374e48b61634d5b2dc5e0336d37e\n",
      "  Running setup.py bdist_wheel for scs ... \u001b[?25ldone\n",
      "\u001b[?25h  Stored in directory: /home/carlmueller/.cache/pip/wheels/ab/bc/82/27adf950c31daad9d38bcd4fe713989e559c7be4eb4f931d82\n",
      "  Running setup.py bdist_wheel for multiprocess ... \u001b[?25ldone\n",
      "\u001b[?25h  Stored in directory: /home/carlmueller/.cache/pip/wheels/28/ef/9f/5cc70b5d92fc4641b68dc23b3583f2b6ec1d153cb71985aeaf\n",
      "  Running setup.py bdist_wheel for fastcache ... \u001b[?25ldone\n",
      "\u001b[?25h  Stored in directory: /home/carlmueller/.cache/pip/wheels/1b/ce/51/0614c8aaab5c0893ed5a2098a15673a4949cba59cfa04ceace\n",
      "  Running setup.py bdist_wheel for toolz ... \u001b[?25ldone\n",
      "\u001b[?25h  Stored in directory: /home/carlmueller/.cache/pip/wheels/57/51/8a/433a9c0a2c65fc1b2a795ae036b932f3339a02e9ae88367659\n",
      "  Running setup.py bdist_wheel for CVXcanon ... \u001b[?25ldone\n",
      "\u001b[?25h  Stored in directory: /home/carlmueller/.cache/pip/wheels/1b/f6/dd/14f66c64621bddd6b92a3cfc995fa2a21b134fcf4122402b30\n",
      "  Running setup.py bdist_wheel for dill ... \u001b[?25ldone\n",
      "\u001b[?25h  Stored in directory: /home/carlmueller/.cache/pip/wheels/e5/88/fe/7e290ce5bb39d531eb9bee5cf254ba1c3e3c7ba3339ce67bee\n",
      "Successfully built cvxpy ecos scs multiprocess fastcache toolz CVXcanon dill\n",
      "Installing collected packages: numpy, scipy, ecos, scs, dill, multiprocess, fastcache, six, toolz, CVXcanon, cvxpy\n",
      "Successfully installed CVXcanon-0.1.1 cvxpy-0.4.11 dill-0.2.7.1 ecos-2.0.5 fastcache-1.0.2 multiprocess-0.70.5 numpy-1.14.2 scipy-1.0.0 scs-2.0.2 six-1.11.0 toolz-0.9.0\n",
      "\u001b[33mYou are using pip version 8.1.1, however version 9.0.1 is available.\n",
      "You should consider upgrading via the 'pip install --upgrade pip' command.\u001b[0m\n"
     ]
    }
   ],
   "source": [
    "import sys\n",
    "!{sys.executable} -m pip install cvxpy numpy\n"
   ]
  },
  {
   "cell_type": "code",
   "execution_count": 5,
   "metadata": {},
   "outputs": [
    {
     "ename": "Exception",
     "evalue": "Cannot evaluate the truth value of a constraint or chain constraints, e.g., 1 >= x >= 0.",
     "output_type": "error",
     "traceback": [
      "\u001b[0;31m---------------------------------------------------------------------------\u001b[0m",
      "\u001b[0;31mException\u001b[0m                                 Traceback (most recent call last)",
      "\u001b[0;32m<ipython-input-5-4d3dd0d26256>\u001b[0m in \u001b[0;36m<module>\u001b[0;34m()\u001b[0m\n\u001b[1;32m      9\u001b[0m \u001b[0mz\u001b[0m \u001b[0;34m=\u001b[0m \u001b[0mVariable\u001b[0m\u001b[0;34m(\u001b[0m\u001b[0mn\u001b[0m\u001b[0;34m)\u001b[0m\u001b[0;34m\u001b[0m\u001b[0m\n\u001b[1;32m     10\u001b[0m \u001b[0mobjective\u001b[0m \u001b[0;34m=\u001b[0m \u001b[0mMinimize\u001b[0m\u001b[0;34m(\u001b[0m\u001b[0mnorm\u001b[0m\u001b[0;34m(\u001b[0m\u001b[0mx\u001b[0m\u001b[0;34m+\u001b[0m\u001b[0my\u001b[0m\u001b[0;34m-\u001b[0m\u001b[0mz\u001b[0m\u001b[0;34m)\u001b[0m\u001b[0;34m)\u001b[0m\u001b[0;34m\u001b[0m\u001b[0m\n\u001b[0;32m---> 11\u001b[0;31m \u001b[0mconstraints\u001b[0m \u001b[0;34m=\u001b[0m \u001b[0;34m[\u001b[0m\u001b[0mnorm\u001b[0m\u001b[0;34m(\u001b[0m\u001b[0;34m[\u001b[0m\u001b[0mmax\u001b[0m\u001b[0;34m(\u001b[0m\u001b[0mx\u001b[0m\u001b[0;34m,\u001b[0m\u001b[0;36m1\u001b[0m\u001b[0;34m)\u001b[0m\u001b[0;34m,\u001b[0m \u001b[0mmax\u001b[0m\u001b[0;34m(\u001b[0m\u001b[0my\u001b[0m\u001b[0;34m,\u001b[0m\u001b[0;36m2\u001b[0m\u001b[0;34m)\u001b[0m\u001b[0;34m]\u001b[0m\u001b[0;34m)\u001b[0m\u001b[0;34m]\u001b[0m\u001b[0;34m\u001b[0m\u001b[0m\n\u001b[0m\u001b[1;32m     12\u001b[0m \u001b[0mprob\u001b[0m \u001b[0;34m=\u001b[0m \u001b[0mProblem\u001b[0m\u001b[0;34m(\u001b[0m\u001b[0mobjective\u001b[0m\u001b[0;34m,\u001b[0m \u001b[0mconstraints\u001b[0m\u001b[0;34m)\u001b[0m\u001b[0;34m\u001b[0m\u001b[0m\n\u001b[1;32m     13\u001b[0m \u001b[0;34m\u001b[0m\u001b[0m\n",
      "\u001b[0;32m~/.local/lib/python3.5/site-packages/cvxpy/constraints/leq_constraint.py\u001b[0m in \u001b[0;36m__bool__\u001b[0;34m(self)\u001b[0m\n\u001b[1;32m     82\u001b[0m         \u001b[0mRaising\u001b[0m \u001b[0man\u001b[0m \u001b[0merror\u001b[0m \u001b[0mhere\u001b[0m \u001b[0mprevents\u001b[0m \u001b[0mwriting\u001b[0m \u001b[0mchained\u001b[0m \u001b[0mconstraints\u001b[0m\u001b[0;34m.\u001b[0m\u001b[0;34m\u001b[0m\u001b[0m\n\u001b[1;32m     83\u001b[0m         \"\"\"\n\u001b[0;32m---> 84\u001b[0;31m         \u001b[0;32mreturn\u001b[0m \u001b[0mself\u001b[0m\u001b[0;34m.\u001b[0m\u001b[0m_chain_constraints\u001b[0m\u001b[0;34m(\u001b[0m\u001b[0;34m)\u001b[0m\u001b[0;34m\u001b[0m\u001b[0m\n\u001b[0m\u001b[1;32m     85\u001b[0m \u001b[0;34m\u001b[0m\u001b[0m\n\u001b[1;32m     86\u001b[0m     \u001b[0;34m@\u001b[0m\u001b[0mproperty\u001b[0m\u001b[0;34m\u001b[0m\u001b[0m\n",
      "\u001b[0;32m~/.local/lib/python3.5/site-packages/cvxpy/constraints/leq_constraint.py\u001b[0m in \u001b[0;36m_chain_constraints\u001b[0;34m(self)\u001b[0m\n\u001b[1;32m     70\u001b[0m         \"\"\"\n\u001b[1;32m     71\u001b[0m         raise Exception(\n\u001b[0;32m---> 72\u001b[0;31m             (\"Cannot evaluate the truth value of a constraint or \"\n\u001b[0m\u001b[1;32m     73\u001b[0m              \"chain constraints, e.g., 1 >= x >= 0.\")\n\u001b[1;32m     74\u001b[0m         )\n",
      "\u001b[0;31mException\u001b[0m: Cannot evaluate the truth value of a constraint or chain constraints, e.g., 1 >= x >= 0."
     ]
    }
   ],
   "source": [
    "from cvxpy import *\n",
    "import numpy\n",
    "\n",
    "\n",
    "\n",
    "# Construct the problem.\n",
    "x = Variable(n)\n",
    "y = Variable(n)\n",
    "z = Variable(n)\n",
    "objective = Minimize(norm(x+y-z))\n",
    "constraints = [norm([max(x,1), max(y,2)])]\n",
    "prob = Problem(objective, constraints)\n",
    "\n",
    "# The optimal objective is returned by prob.solve().\n",
    "result = prob.solve()\n",
    "# The optimal value for x is stored in x.value.\n",
    "print(x.value)\n",
    "# The optimal Lagrange multiplier for a constraint\n",
    "# is stored in constraint.dual_value.\n",
    "print(constraints[0].dual_value)"
   ]
  }
 ],
 "metadata": {
  "kernelspec": {
   "display_name": "Python 2",
   "language": "python",
   "name": "python2"
  },
  "language_info": {
   "codemirror_mode": {
    "name": "ipython",
    "version": 3
   },
   "file_extension": ".py",
   "mimetype": "text/x-python",
   "name": "python",
   "nbconvert_exporter": "python",
   "pygments_lexer": "ipython3",
   "version": "3.5.2"
  }
 },
 "nbformat": 4,
 "nbformat_minor": 2
}
